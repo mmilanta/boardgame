{
 "cells": [
  {
   "cell_type": "code",
   "execution_count": 1,
   "metadata": {},
   "outputs": [],
   "source": [
    "from game_logic.board import Board, Coord\n",
    "from game_logic.game import Game\n",
    "from game_logic.player import Player\n"
   ]
  },
  {
   "cell_type": "code",
   "execution_count": 2,
   "metadata": {},
   "outputs": [],
   "source": [
    "board = Board(10,10)\n",
    "players = [Player(10, i) for i in range(2)]\n",
    "game = Game(board=board, players=players)"
   ]
  },
  {
   "cell_type": "code",
   "execution_count": 3,
   "metadata": {},
   "outputs": [],
   "source": [
    "game.action_build_unit(players[0], Coord(4,5, board), \"warrior\")\n",
    "game.action_end_turn(players[0])"
   ]
  },
  {
   "cell_type": "code",
   "execution_count": 4,
   "metadata": {},
   "outputs": [],
   "source": [
    "game.action_build_unit(players[1], Coord(2,2, board), \"warrior\")\n",
    "game.action_end_turn(players[1])"
   ]
  },
  {
   "cell_type": "code",
   "execution_count": 5,
   "metadata": {},
   "outputs": [
    {
     "name": "stdout",
     "output_type": "stream",
     "text": [
      "0: 10$\n",
      "1: 10$\n",
      "------------------------------\n",
      "  |  |  |  |  |  |  |  |  |  \n",
      "  |  |  |  |  |  |  |  |  |  \n",
      "  |  |w1|  |  |  |  |  |  |  \n",
      "  |  |  |  |  |  |  |  |  |  \n",
      "  |  |  |  |  |w0|  |  |  |  \n",
      "  |  |  |  |  |  |  |  |  |  \n",
      "  |  |  |  |  |  |  |  |  |  \n",
      "  |  |  |  |  |  |  |  |  |  \n",
      "  |  |  |  |  |  |  |  |  |  \n",
      "  |  |  |  |  |  |  |  |  |  \n"
     ]
    }
   ],
   "source": [
    "print(game.render())"
   ]
  },
  {
   "cell_type": "code",
   "execution_count": 6,
   "metadata": {},
   "outputs": [
    {
     "data": {
      "text/plain": [
       "[0]"
      ]
     },
     "execution_count": 6,
     "metadata": {},
     "output_type": "execute_result"
    }
   ],
   "source": [
    "[unit.id for unit in game.units]"
   ]
  },
  {
   "cell_type": "code",
   "execution_count": 46,
   "metadata": {},
   "outputs": [
    {
     "name": "stdout",
     "output_type": "stream",
     "text": [
      "  |  |  |  |  |  |  |  |  |  \n",
      "  |  |  |  |  |  |  |  |  |  \n",
      "  |  |w1|  |  |  |  |  |  |  \n",
      "  |  |  |  |  |  |  |  |  |  \n",
      "  |  |  |  |  |w0|w0|  |  |  \n",
      "  |  |  |  |  |  |  |  |  |  \n",
      "  |  |  |  |  |  |  |  |  |  \n",
      "  |  |  |  |  |  |  |  |  |  \n",
      "  |  |  |  |  |  |  |  |  |  \n",
      "  |  |  |  |  |  |  |  |  |  \n"
     ]
    }
   ],
   "source": [
    "game.action_move_unit(players[0], 0, Coord(4, game.units[0].location.col+1, board))\n",
    "print(game.render())"
   ]
  },
  {
   "cell_type": "code",
   "execution_count": 18,
   "metadata": {},
   "outputs": [],
   "source": [
    "game.units[0].actions = 10"
   ]
  },
  {
   "cell_type": "code",
   "execution_count": 28,
   "metadata": {},
   "outputs": [
    {
     "data": {
      "text/plain": [
       "3"
      ]
     },
     "execution_count": 28,
     "metadata": {},
     "output_type": "execute_result"
    }
   ],
   "source": [
    "game.units[0].actions"
   ]
  },
  {
   "cell_type": "code",
   "execution_count": 55,
   "metadata": {},
   "outputs": [
    {
     "data": {
      "text/plain": [
       "2"
      ]
     },
     "execution_count": 55,
     "metadata": {},
     "output_type": "execute_result"
    }
   ],
   "source": [
    "def fun():\n",
    "    for i in range(10):\n",
    "        if i == 4:\n",
    "            return 2\n",
    "            break\n",
    "    else:\n",
    "        return 1\n",
    "fun()"
   ]
  },
  {
   "cell_type": "code",
   "execution_count": null,
   "metadata": {},
   "outputs": [],
   "source": []
  }
 ],
 "metadata": {
  "kernelspec": {
   "display_name": "base",
   "language": "python",
   "name": "python3"
  },
  "language_info": {
   "codemirror_mode": {
    "name": "ipython",
    "version": 3
   },
   "file_extension": ".py",
   "mimetype": "text/x-python",
   "name": "python",
   "nbconvert_exporter": "python",
   "pygments_lexer": "ipython3",
   "version": "3.9.16"
  },
  "orig_nbformat": 4
 },
 "nbformat": 4,
 "nbformat_minor": 2
}

{
 "cells": [
  {
   "cell_type": "code",
   "execution_count": 1,
   "metadata": {},
   "outputs": [],
   "source": [
    "import json\n",
    "import logging\n",
    "from enum import Enum\n",
    "from typing import List, Dict, Union\n",
    "\n",
    "from pydantic import BaseModel, field_validator, model_validator\n",
    "\n",
    "from src.game_logic.board import Coord\n",
    "from src.game_logic.game import Game\n",
    "from src.game_logic.units import Unit, UnitType\n",
    "\n",
    "logger = logging.getLogger(__name__)\n",
    "\n",
    "\n"
   ]
  },
  {
   "cell_type": "code",
   "execution_count": 8,
   "metadata": {},
   "outputs": [
    {
     "data": {
      "text/plain": [
       "Unit(location=Coord(row=0, col=0), owner_id=1, id=0, type=<UnitType.warrior: 'warrior'>, actions=0)"
      ]
     },
     "execution_count": 8,
     "metadata": {},
     "output_type": "execute_result"
    }
   ],
   "source": [
    "Unit(\n",
    "    location=Coord(row=0, col=0), owner_id=1, id=0, type=UnitType.warrior, actions=0)"
   ]
  },
  {
   "cell_type": "code",
   "execution_count": null,
   "metadata": {},
   "outputs": [],
   "source": []
  },
  {
   "cell_type": "code",
   "execution_count": 12,
   "metadata": {},
   "outputs": [],
   "source": [
    "class ActionType(Enum):\n",
    "    move_unit = \"move_unit\"\n",
    "    attack = \"attack\"\n",
    "    build_unit = \"build_unit\"\n",
    "    end_turn = \"end_turn\"\n",
    "\n",
    "\n",
    "class ActionParam(BaseModel):\n",
    "    game_id: int\n",
    "    player_id: int\n",
    "    class Config:\n",
    "        extra = \"forbid\"\n",
    "\n",
    "\n",
    "class ActionParamMoveUnit(ActionParam):\n",
    "    unit_id: int\n",
    "    move_to: Coord\n",
    "\n",
    "\n",
    "class ActionParamAttack(ActionParam):\n",
    "    attacking_unit_ids: List[int]\n",
    "    attacked_unit_id: int\n",
    "\n",
    "\n",
    "class ActionParamBuildUnit(ActionParam):\n",
    "    location: Coord\n",
    "    type: UnitType\n",
    "\n",
    "\n",
    "class ActionParamEndTurn(ActionParam):\n",
    "    pass\n",
    "\n",
    "\n",
    "class Action(BaseModel):\n",
    "    action_type: ActionType\n",
    "    params: Union[ActionParamMoveUnit, ActionParamAttack, ActionParamBuildUnit, ActionParamEndTurn]\n",
    "    \n",
    "    @field_validator(\"params\", mode=\"after\")\n",
    "    def valid_params(cls, v,  values):\n",
    "        if values.data[\"action_type\"] == ActionType.move_unit:\n",
    "            assert isinstance(v, ActionParamMoveUnit)\n",
    "        elif values.data[\"action_type\"] == ActionType.attack:\n",
    "            assert isinstance(v, ActionParamAttack)\n",
    "        elif values.data[\"action_type\"] == ActionType.build_unit:\n",
    "            assert isinstance(v, ActionParamBuildUnit)\n",
    "        elif values.data[\"action_type\"] == ActionType.end_turn:\n",
    "            assert isinstance(v, ActionParamEndTurn)"
   ]
  },
  {
   "cell_type": "code",
   "execution_count": 2,
   "metadata": {},
   "outputs": [
    {
     "data": {
      "text/plain": [
       "'hello'"
      ]
     },
     "execution_count": 2,
     "metadata": {},
     "output_type": "execute_result"
    }
   ],
   "source": [
    "a = \"hello\"\n",
    "a[:100]"
   ]
  },
  {
   "cell_type": "code",
   "execution_count": 13,
   "metadata": {},
   "outputs": [
    {
     "name": "stdout",
     "output_type": "stream",
     "text": [
      "{'action_type': 'build_unit', 'params': {'game_id': 0, 'player_id': 1, 'location': {'row': 0, 'col': 0}, 'type': 'warrior'}}\n",
      "[Action(action_type=<ActionType.move_unit: 'move_unit'>, params=None), Action(action_type=<ActionType.attack: 'attack'>, params=None), Action(action_type=<ActionType.build_unit: 'build_unit'>, params=None), Action(action_type=<ActionType.end_turn: 'end_turn'>, params=None)]\n"
     ]
    }
   ],
   "source": [
    "data = {\n",
    "    \"action_type\" : \"move_unit\",\n",
    "    \"params\": {\n",
    "        \"game_id\" : 0,\n",
    "        'player_id': 1,\n",
    "        \"unit_id\":0,\n",
    "        \"move_to\":{\n",
    "            \"row\":0,\n",
    "            \"col\":0,\n",
    "        }\n",
    "    }\n",
    "}\n",
    "data2 = {\n",
    "    \"action_type\" : \"attack\",\n",
    "    \"params\": {\n",
    "        \"game_id\" : 0,\n",
    "        'player_id': 1,\n",
    "        \"attacking_unit_ids\":[0,1,2],\n",
    "        \"attacked_unit_id\":3\n",
    "    }\n",
    "}\n",
    "data3 = {\n",
    "    \"action_type\" : \"build_unit\",\n",
    "    \"params\": {\n",
    "        \"game_id\" : 0,\n",
    "        'player_id': 1,\n",
    "        \"location\":{\n",
    "            \"row\":0,\n",
    "            \"col\":0,\n",
    "        },\n",
    "        \"type\":\"warrior\"\n",
    "    }\n",
    "}\n",
    "data4 = {\n",
    "    \"action_type\" : \"end_turn\",\n",
    "    \"params\": {\n",
    "        \"game_id\" : 0,\n",
    "        'player_id': 1\n",
    "    }\n",
    "}\n",
    "print(data3)\n",
    "a = [Action.model_validate(d) for d in [data, data2, data3, data4]]\n",
    "print(a)"
   ]
  },
  {
   "cell_type": "code",
   "execution_count": 10,
   "metadata": {},
   "outputs": [
    {
     "ename": "ValidationError",
     "evalue": "2 validation errors for ActionParam\nlocation\n  Extra inputs are not permitted [type=extra_forbidden, input_value={'row': 0, 'col': 0}, input_type=dict]\n    For further information visit https://errors.pydantic.dev/2.0.1/v/extra_forbidden\ntype\n  Extra inputs are not permitted [type=extra_forbidden, input_value='warrior', input_type=str]\n    For further information visit https://errors.pydantic.dev/2.0.1/v/extra_forbidden",
     "output_type": "error",
     "traceback": [
      "\u001b[0;31m---------------------------------------------------------------------------\u001b[0m",
      "\u001b[0;31mValidationError\u001b[0m                           Traceback (most recent call last)",
      "\u001b[1;32m/Users/marcomilanta/Documents/personal/boardgame/main.ipynb Cell 4\u001b[0m line \u001b[0;36m1\n\u001b[0;32m----> <a href='vscode-notebook-cell:/Users/marcomilanta/Documents/personal/boardgame/main.ipynb#X36sZmlsZQ%3D%3D?line=0'>1</a>\u001b[0m ActionParam(\u001b[39m*\u001b[39;49m\u001b[39m*\u001b[39;49mdata3[\u001b[39m\"\u001b[39;49m\u001b[39mparams\u001b[39;49m\u001b[39m\"\u001b[39;49m])\n",
      "File \u001b[0;32m/opt/homebrew/lib/python3.11/site-packages/pydantic/main.py:150\u001b[0m, in \u001b[0;36mBaseModel.__init__\u001b[0;34m(__pydantic_self__, **data)\u001b[0m\n\u001b[1;32m    148\u001b[0m \u001b[39m# `__tracebackhide__` tells pytest and some other tools to omit this function from tracebacks\u001b[39;00m\n\u001b[1;32m    149\u001b[0m __tracebackhide__ \u001b[39m=\u001b[39m \u001b[39mTrue\u001b[39;00m\n\u001b[0;32m--> 150\u001b[0m __pydantic_self__\u001b[39m.\u001b[39;49m__pydantic_validator__\u001b[39m.\u001b[39;49mvalidate_python(data, self_instance\u001b[39m=\u001b[39;49m__pydantic_self__)\n",
      "\u001b[0;31mValidationError\u001b[0m: 2 validation errors for ActionParam\nlocation\n  Extra inputs are not permitted [type=extra_forbidden, input_value={'row': 0, 'col': 0}, input_type=dict]\n    For further information visit https://errors.pydantic.dev/2.0.1/v/extra_forbidden\ntype\n  Extra inputs are not permitted [type=extra_forbidden, input_value='warrior', input_type=str]\n    For further information visit https://errors.pydantic.dev/2.0.1/v/extra_forbidden"
     ]
    }
   ],
   "source": [
    "ActionParam(**data3[\"params\"])"
   ]
  },
  {
   "cell_type": "code",
   "execution_count": 7,
   "metadata": {},
   "outputs": [
    {
     "data": {
      "text/plain": [
       "{'game_id': 0,\n",
       " 'player_id': 1,\n",
       " 'location': {'row': 0, 'col': 0},\n",
       " 'type': 'warrior'}"
      ]
     },
     "execution_count": 7,
     "metadata": {},
     "output_type": "execute_result"
    }
   ],
   "source": [
    "data3[\"params\"]"
   ]
  },
  {
   "cell_type": "code",
   "execution_count": null,
   "metadata": {},
   "outputs": [],
   "source": [
    " "
   ]
  }
 ],
 "metadata": {
  "kernelspec": {
   "display_name": "base",
   "language": "python",
   "name": "python3"
  },
  "language_info": {
   "codemirror_mode": {
    "name": "ipython",
    "version": 3
   },
   "file_extension": ".py",
   "mimetype": "text/x-python",
   "name": "python",
   "nbconvert_exporter": "python",
   "pygments_lexer": "ipython3",
   "version": "3.11.4"
  },
  "orig_nbformat": 4
 },
 "nbformat": 4,
 "nbformat_minor": 2
}

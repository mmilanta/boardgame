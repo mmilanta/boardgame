{
 "cells": [
  {
   "cell_type": "code",
   "execution_count": 1,
   "metadata": {},
   "outputs": [],
   "source": [
    "from game_logic.board import Board, Coord\n",
    "from game_logic.game import Game\n",
    "from game_logic.player import Player\n",
    "from typing import List"
   ]
  },
  {
   "cell_type": "code",
   "execution_count": 2,
   "metadata": {},
   "outputs": [],
   "source": [
    "board = Board.build_empty_board(10,10)\n"
   ]
  },
  {
   "cell_type": "code",
   "execution_count": 3,
   "metadata": {},
   "outputs": [
    {
     "data": {
      "text/plain": [
       "<game_logic.board.Board at 0x104ca3090>"
      ]
     },
     "execution_count": 3,
     "metadata": {},
     "output_type": "execute_result"
    }
   ],
   "source": [
    "Board.from_dict(board.to_dict())"
   ]
  },
  {
   "cell_type": "code",
   "execution_count": 4,
   "metadata": {},
   "outputs": [],
   "source": [
    "board = Board.build_empty_board(10,10)\n",
    "players = [Player(10, i) for i in range(2)]\n",
    "game = Game(board=board, players=players)"
   ]
  },
  {
   "cell_type": "code",
   "execution_count": 5,
   "metadata": {},
   "outputs": [],
   "source": [
    "game.action_build_unit(players[0], Coord.from_row_col(2,2, board), \"warrior\")\n",
    "game.action_end_turn(players[0])\n",
    "game.action_build_unit(players[1], Coord.from_row_col(2,3, board), \"warrior\")\n",
    "game.action_end_turn(players[1])"
   ]
  },
  {
   "cell_type": "code",
   "execution_count": 6,
   "metadata": {},
   "outputs": [
    {
     "name": "stdout",
     "output_type": "stream",
     "text": [
      "1\n",
      "0: 10$\n",
      "1: 10$\n",
      "------------------------------\n",
      "  |  |  |  |  |  |  |  |  |  \n",
      "  |  |  |  |  |  |  |  |  |  \n",
      "  |  |  |w0|  |  |  |  |  |  \n",
      "  |  |  |  |  |  |  |  |  |  \n",
      "  |  |  |  |  |  |  |  |  |  \n",
      "  |  |  |  |  |  |  |  |  |  \n",
      "  |  |  |  |  |  |  |  |  |  \n",
      "  |  |  |  |  |  |  |  |  |  \n",
      "  |  |  |  |  |  |  |  |  |  \n",
      "  |  |  |  |  |  |  |  |  |  \n"
     ]
    }
   ],
   "source": [
    "board = Board.build_empty_board(10,10)\n",
    "players = [Player(10, i) for i in range(2)]\n",
    "game = Game(board=board, players=players)\n",
    "game.action_build_unit(players[0], Coord.from_row_col(2,2, board), \"warrior\")\n",
    "game.action_end_turn(players[0])\n",
    "game.action_build_unit(players[1], Coord.from_row_col(2,3, board), \"warrior\")\n",
    "game.action_end_turn(players[1])\n",
    "print(game.action_attack(players[0], [0], 1))\n",
    "print(game.render())"
   ]
  },
  {
   "cell_type": "code",
   "execution_count": 7,
   "metadata": {},
   "outputs": [
    {
     "data": {
      "text/plain": [
       "<game_logic.units.UnitStats at 0x104cd0690>"
      ]
     },
     "execution_count": 7,
     "metadata": {},
     "output_type": "execute_result"
    }
   ],
   "source": [
    "game.units[0].stats"
   ]
  },
  {
   "cell_type": "code",
   "execution_count": 8,
   "metadata": {},
   "outputs": [
    {
     "data": {
      "text/plain": [
       "<game_logic.units.UnitStats at 0x104ccdd10>"
      ]
     },
     "execution_count": 8,
     "metadata": {},
     "output_type": "execute_result"
    }
   ],
   "source": [
    "game2 = Game.from_dict(game.to_dict())\n",
    "game2.units[0].stats"
   ]
  },
  {
   "cell_type": "code",
   "execution_count": 9,
   "metadata": {},
   "outputs": [
    {
     "data": {
      "text/plain": [
       "True"
      ]
     },
     "execution_count": 9,
     "metadata": {},
     "output_type": "execute_result"
    }
   ],
   "source": [
    "game == game2"
   ]
  },
  {
   "cell_type": "code",
   "execution_count": 12,
   "metadata": {},
   "outputs": [
    {
     "name": "stdout",
     "output_type": "stream",
     "text": [
      "0: 10$\n",
      "1: 10$\n",
      "------------------------------\n",
      "  |  |  |  |  |  |  |  |  |  \n",
      "  |  |  |  |  |  |  |  |  |  \n",
      "  |  |  |w0|  |  |  |  |  |  \n",
      "  |  |  |  |  |  |  |  |  |  \n",
      "  |  |  |  |  |  |  |  |  |  \n",
      "  |  |  |  |  |  |  |  |  |  \n",
      "  |  |  |  |  |  |  |  |  |  \n",
      "  |  |  |  |  |  |  |  |  |  \n",
      "  |  |  |  |  |  |  |  |  |  \n",
      "  |  |  |  |  |  |  |  |  |  \n"
     ]
    }
   ],
   "source": [
    "print(game.render())"
   ]
  },
  {
   "cell_type": "code",
   "execution_count": 9,
   "metadata": {},
   "outputs": [],
   "source": [
    "game = Game.from_dict(game.to_dict())"
   ]
  },
  {
   "cell_type": "code",
   "execution_count": 15,
   "metadata": {},
   "outputs": [
    {
     "name": "stdout",
     "output_type": "stream",
     "text": [
      "0: 10$\n",
      "1: 10$\n",
      "------------------------------\n",
      "  |  |  |  |  |  |  |  |  |  \n",
      "  |  |  |  |  |  |  |  |  |  \n",
      "  |  |  |w0|  |  |  |  |  |  \n",
      "  |  |  |  |  |  |  |  |  |  \n",
      "  |  |  |  |  |  |  |  |  |  \n",
      "  |  |  |  |  |  |  |  |  |  \n",
      "  |  |  |  |  |  |  |  |  |  \n",
      "  |  |  |  |  |  |  |  |  |  \n",
      "  |  |  |  |  |  |  |  |  |  \n",
      "  |  |  |  |  |  |  |  |  |  \n"
     ]
    }
   ],
   "source": [
    "print(game.render())"
   ]
  },
  {
   "cell_type": "code",
   "execution_count": 16,
   "metadata": {},
   "outputs": [
    {
     "name": "stdout",
     "output_type": "stream",
     "text": [
      "{'board': [[-1, -1, -1, -1, -1, -1, -1, -1, -1, -1], [-1, -1, -1, -1, -1, -1, -1, -1, -1, -1], [-1, -1, -1, -1, -1, -1, -1, -1, -1, -1], [-1, -1, -1, -1, -1, -1, -1, -1, -1, -1], [-1, -1, -1, -1, -1, -1, -1, -1, -1, -1], [-1, -1, -1, -1, -1, -1, -1, -1, -1, -1], [-1, -1, -1, -1, -1, -1, -1, -1, -1, -1], [-1, -1, -1, -1, -1, -1, -1, -1, -1, -1], [-1, -1, -1, -1, -1, -1, -1, -1, -1, -1], [-1, -1, -1, -1, -1, -1, -1, -1, -1, -1]], 'players': [{'id': 0, 'budget': 10, 'worker_to_place': True}, {'id': 1, 'budget': 10, 'worker_to_place': True}], 'current_player_id': 0, 'units': [{'location': {'row': 2, 'col': 3}, 'owner_id': 0, 'id': 0, 'kind': 'warrior', 'actions': 0}]}\n"
     ]
    }
   ],
   "source": [
    "print(game.to_dict())"
   ]
  },
  {
   "cell_type": "code",
   "execution_count": 17,
   "metadata": {},
   "outputs": [
    {
     "ename": "IndexError",
     "evalue": "list index out of range",
     "output_type": "error",
     "traceback": [
      "\u001b[0;31m---------------------------------------------------------------------------\u001b[0m",
      "\u001b[0;31mIndexError\u001b[0m                                Traceback (most recent call last)",
      "\u001b[1;32m/Users/marcomilanta/Documents/personal/boardgame/main.ipynb Cell 10\u001b[0m line \u001b[0;36m1\n\u001b[0;32m----> <a href='vscode-notebook-cell:/Users/marcomilanta/Documents/personal/boardgame/main.ipynb#X11sZmlsZQ%3D%3D?line=0'>1</a>\u001b[0m game\u001b[39m.\u001b[39;49munits[\u001b[39m1\u001b[39;49m]\u001b[39m.\u001b[39mstats\n",
      "\u001b[0;31mIndexError\u001b[0m: list index out of range"
     ]
    }
   ],
   "source": [
    "game.units[1].stats"
   ]
  },
  {
   "cell_type": "code",
   "execution_count": null,
   "metadata": {},
   "outputs": [],
   "source": [
    "\n"
   ]
  },
  {
   "cell_type": "code",
   "execution_count": 8,
   "metadata": {},
   "outputs": [
    {
     "ename": "ValueError",
     "evalue": "Unit not found with id 1",
     "output_type": "error",
     "traceback": [
      "\u001b[0;31m---------------------------------------------------------------------------\u001b[0m",
      "\u001b[0;31mValueError\u001b[0m                                Traceback (most recent call last)",
      "\u001b[1;32m/Users/marcomilanta/Documents/personal/boardgame/main.ipynb Cell 8\u001b[0m line \u001b[0;36m1\n\u001b[0;32m----> <a href='vscode-notebook-cell:/Users/marcomilanta/Documents/personal/boardgame/main.ipynb#X11sZmlsZQ%3D%3D?line=0'>1</a>\u001b[0m game\u001b[39m.\u001b[39;49maction_attack(players[\u001b[39m0\u001b[39;49m], [\u001b[39m0\u001b[39;49m], \u001b[39m1\u001b[39;49m)\n\u001b[1;32m      <a href='vscode-notebook-cell:/Users/marcomilanta/Documents/personal/boardgame/main.ipynb#X11sZmlsZQ%3D%3D?line=1'>2</a>\u001b[0m \u001b[39mprint\u001b[39m(game\u001b[39m.\u001b[39mrender())\n",
      "File \u001b[0;32m~/Documents/personal/boardgame/game_logic/game.py:71\u001b[0m, in \u001b[0;36mGame.action_attack\u001b[0;34m(self, player, attacking_unit_ids, attacked_unit_id)\u001b[0m\n\u001b[1;32m     69\u001b[0m attacked_unit \u001b[39m=\u001b[39m \u001b[39mself\u001b[39m\u001b[39m.\u001b[39m_unit_from_id(attacked_unit_id)\n\u001b[1;32m     70\u001b[0m \u001b[39mif\u001b[39;00m attacked_unit \u001b[39mis\u001b[39;00m \u001b[39mNone\u001b[39;00m:\n\u001b[0;32m---> 71\u001b[0m     \u001b[39mraise\u001b[39;00m \u001b[39mValueError\u001b[39;00m(\u001b[39mf\u001b[39m\u001b[39m\"\u001b[39m\u001b[39mUnit not found with id \u001b[39m\u001b[39m{\u001b[39;00mattacked_unit_id\u001b[39m}\u001b[39;00m\u001b[39m\"\u001b[39m)\n\u001b[1;32m     72\u001b[0m \u001b[39mif\u001b[39;00m attacked_unit\u001b[39m.\u001b[39mowner \u001b[39m==\u001b[39m player:\n\u001b[1;32m     73\u001b[0m     \u001b[39mraise\u001b[39;00m \u001b[39mValueError\u001b[39;00m(\u001b[39mf\u001b[39m\u001b[39m\"\u001b[39m\u001b[39mCannot attach owned unit. Current player is \u001b[39m\u001b[39m{\u001b[39;00mplayer\u001b[39m.\u001b[39mid\u001b[39m}\u001b[39;00m\u001b[39m. Owner is \u001b[39m\u001b[39m{\u001b[39;00mattacked_unit\u001b[39m.\u001b[39mowner\u001b[39m.\u001b[39mid\u001b[39m}\u001b[39;00m\u001b[39m\"\u001b[39m)\n",
      "\u001b[0;31mValueError\u001b[0m: Unit not found with id 1"
     ]
    }
   ],
   "source": [
    "game.action_attack(players[0], [0], 1)"
   ]
  },
  {
   "cell_type": "code",
   "execution_count": 8,
   "metadata": {},
   "outputs": [
    {
     "ename": "IndexError",
     "evalue": "list index out of range",
     "output_type": "error",
     "traceback": [
      "\u001b[0;31m---------------------------------------------------------------------------\u001b[0m",
      "\u001b[0;31mIndexError\u001b[0m                                Traceback (most recent call last)",
      "\u001b[1;32m/Users/marcomilanta/Documents/personal/boardgame/main.ipynb Cell 8\u001b[0m line \u001b[0;36m1\n\u001b[0;32m----> <a href='vscode-notebook-cell:/Users/marcomilanta/Documents/personal/boardgame/main.ipynb#X12sZmlsZQ%3D%3D?line=0'>1</a>\u001b[0m game\u001b[39m.\u001b[39;49munits[\u001b[39m1\u001b[39;49m]\u001b[39m.\u001b[39mid\n",
      "\u001b[0;31mIndexError\u001b[0m: list index out of range"
     ]
    }
   ],
   "source": [
    "game.units[1].id"
   ]
  },
  {
   "cell_type": "code",
   "execution_count": null,
   "metadata": {},
   "outputs": [
    {
     "ename": "ValueError",
     "evalue": "Moving to used cell",
     "output_type": "error",
     "traceback": [
      "\u001b[0;31m---------------------------------------------------------------------------\u001b[0m",
      "\u001b[0;31mValueError\u001b[0m                                Traceback (most recent call last)",
      "\u001b[1;32m/Users/marcomilanta/Documents/personal/boardgame/main.ipynb Cell 6\u001b[0m line \u001b[0;36m1\n\u001b[0;32m----> <a href='vscode-notebook-cell:/Users/marcomilanta/Documents/personal/boardgame/main.ipynb#W6sZmlsZQ%3D%3D?line=0'>1</a>\u001b[0m game\u001b[39m.\u001b[39;49maction_move_unit(players[\u001b[39m0\u001b[39;49m], \u001b[39m0\u001b[39;49m, Coord(game\u001b[39m.\u001b[39;49munits[\u001b[39m0\u001b[39;49m]\u001b[39m.\u001b[39;49mlocation\u001b[39m.\u001b[39;49mrow, game\u001b[39m.\u001b[39;49munits[\u001b[39m0\u001b[39;49m]\u001b[39m.\u001b[39;49mlocation\u001b[39m.\u001b[39;49mcol\u001b[39m+\u001b[39;49m\u001b[39m1\u001b[39;49m, board))\n\u001b[1;32m      <a href='vscode-notebook-cell:/Users/marcomilanta/Documents/personal/boardgame/main.ipynb#W6sZmlsZQ%3D%3D?line=1'>2</a>\u001b[0m \u001b[39mprint\u001b[39m(game\u001b[39m.\u001b[39mrender())\n",
      "File \u001b[0;32m~/Documents/personal/boardgame/game_logic/game.py:60\u001b[0m, in \u001b[0;36mGame.action_move_unit\u001b[0;34m(self, player, unit_id, move_to)\u001b[0m\n\u001b[1;32m     57\u001b[0m \u001b[39mself\u001b[39m\u001b[39m.\u001b[39m_check_current_player(player)\n\u001b[1;32m     59\u001b[0m \u001b[39mif\u001b[39;00m \u001b[39mself\u001b[39m\u001b[39m.\u001b[39m_unit_from_location(move_to) \u001b[39mis\u001b[39;00m \u001b[39mnot\u001b[39;00m \u001b[39mNone\u001b[39;00m:\n\u001b[0;32m---> 60\u001b[0m     \u001b[39mraise\u001b[39;00m \u001b[39mValueError\u001b[39;00m(\u001b[39m\"\u001b[39m\u001b[39mMoving to used cell\u001b[39m\u001b[39m\"\u001b[39m)\n\u001b[1;32m     62\u001b[0m unit \u001b[39m=\u001b[39m \u001b[39mself\u001b[39m\u001b[39m.\u001b[39m_select_unit_from_id_and_player(unit_id, player)\n\u001b[1;32m     63\u001b[0m unit\u001b[39m.\u001b[39mmove_to(move_to)\n",
      "\u001b[0;31mValueError\u001b[0m: Moving to used cell"
     ]
    }
   ],
   "source": [
    "game.action_move_unit(players[0], 0, Coord.from_row_col(game.units[0].location.row, game.units[0].location.col+1, board))\n",
    "print(game.render())"
   ]
  },
  {
   "cell_type": "code",
   "execution_count": 9,
   "metadata": {},
   "outputs": [
    {
     "name": "stdout",
     "output_type": "stream",
     "text": [
      "0: 10$\n",
      "1: 10$\n",
      "------------------------------\n",
      "  |  |  |  |  |  |  |  |  |  \n",
      "  |  |  |  |  |  |  |  |  |  \n",
      "  |  |w0|  |  |  |  |  |  |  \n",
      "  |  |  |  |  |  |  |  |  |  \n",
      "  |  |  |  |  |  |  |  |  |  \n",
      "  |  |  |  |  |  |  |  |  |  \n",
      "  |  |  |  |  |  |  |  |  |  \n",
      "  |  |  |  |  |  |  |  |  |  \n",
      "  |  |  |  |  |  |  |  |  |  \n",
      "  |  |  |  |  |  |  |  |  |  \n"
     ]
    }
   ],
   "source": [
    "print(game.render())"
   ]
  },
  {
   "cell_type": "code",
   "execution_count": null,
   "metadata": {},
   "outputs": [],
   "source": []
  }
 ],
 "metadata": {
  "kernelspec": {
   "display_name": "base",
   "language": "python",
   "name": "python3"
  },
  "language_info": {
   "codemirror_mode": {
    "name": "ipython",
    "version": 3
   },
   "file_extension": ".py",
   "mimetype": "text/x-python",
   "name": "python",
   "nbconvert_exporter": "python",
   "pygments_lexer": "ipython3",
   "version": "3.11.4"
  },
  "orig_nbformat": 4
 },
 "nbformat": 4,
 "nbformat_minor": 2
}

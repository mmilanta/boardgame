{
 "cells": [
  {
   "cell_type": "code",
   "execution_count": 189,
   "metadata": {},
   "outputs": [],
   "source": [
    "from pydantic import BaseModel, root_validator, model_validator\n",
    "from typing import List\n",
    "import matplotlib.pyplot as plt\n",
    "import json\n",
    "from random import randint\n",
    "from enum import Enum\n",
    "import numpy as np\n",
    "from matplotlib.patches import RegularPolygon\n",
    "from perlin_noise import PerlinNoise"
   ]
  },
  {
   "cell_type": "code",
   "execution_count": 205,
   "metadata": {},
   "outputs": [],
   "source": [
    "from os import listdir\n"
   ]
  },
  {
   "cell_type": "code",
   "execution_count": 215,
   "metadata": {},
   "outputs": [
    {
     "name": "stdout",
     "output_type": "stream",
     "text": [
      "000\n"
     ]
    }
   ],
   "source": [
    "for file_name in listdir(\"data/games\"):\n",
    "    print(file_name[:-5])"
   ]
  },
  {
   "cell_type": "code",
   "execution_count": null,
   "metadata": {},
   "outputs": [],
   "source": []
  },
  {
   "cell_type": "code",
   "execution_count": 213,
   "metadata": {},
   "outputs": [
    {
     "data": {
      "text/plain": [
       "'040'"
      ]
     },
     "execution_count": 213,
     "metadata": {},
     "output_type": "execute_result"
    }
   ],
   "source": [
    "e = 40\n",
    "f\"\""
   ]
  },
  {
   "cell_type": "code",
   "execution_count": 190,
   "metadata": {},
   "outputs": [],
   "source": [
    "\n",
    "class CellType(Enum):\n",
    "    mauntain = \"mauntain\"\n",
    "    plain = \"plain\"\n",
    "    see = \"see\"\n",
    "    empty = \"empty\"\n",
    "    hills = \"hills\"\n",
    "    city = \"city\"\n",
    "\n",
    "\n",
    "class Cell(BaseModel):\n",
    "    type: CellType\n",
    "    yields: int\n"
   ]
  },
  {
   "cell_type": "code",
   "execution_count": 191,
   "metadata": {},
   "outputs": [],
   "source": [
    "class Dice(BaseModel):\n",
    "    dice_size: int\n",
    "\n",
    "    def roll(self) -> int:\n",
    "        r = randint(1, self.dice_size)\n",
    "        print.info(f\"dice of size {self.dice_size} rolled {r}\")\n",
    "        return r\n",
    "\n",
    "    def expected(self) -> float:\n",
    "        return (self.dice_size + 1) / 2\n",
    "\n",
    "    def __eq__(self, __value: object) -> bool:\n",
    "        assert isinstance(__value, Dice)\n",
    "        return self.dice_size == __value.dice_size\n",
    "\n",
    "\n",
    "class DiceSet(BaseModel):\n",
    "    dices: List[Dice]\n",
    "\n",
    "    def roll(self) -> int:\n",
    "        out = 0\n",
    "        for dice in self.dices:\n",
    "            out += dice.roll()\n",
    "        return out\n",
    "\n",
    "    def expected(self) -> float:\n",
    "        out = 0.0\n",
    "        for dice in self.dices:\n",
    "            out += dice.expected()\n",
    "        return out\n",
    "\n",
    "    def __eq__(self, __value: object) -> bool:\n",
    "        assert isinstance(__value, DiceSet)\n",
    "        return self.dices == __value.dices\n",
    "\n",
    "    @property\n",
    "    def is_zero(self):\n",
    "        return len(self.dices) == 0\n",
    "\n",
    "    @staticmethod\n",
    "    def from_dice_code(dice_code: str):\n",
    "        dices = []\n",
    "        if dice_code == \"\":\n",
    "            return DiceSet(dices=[])\n",
    "        dices_str = dice_code.split(\" \")\n",
    "        for dice in dices_str:\n",
    "            n_dice_str, dice_size_str = dice.split(\"d\")\n",
    "            n_dice = 1 if n_dice_str == \"\" else int(n_dice_str)\n",
    "            dice_size = int(dice_size_str)\n",
    "            for _ in range(n_dice):\n",
    "                dices.append(Dice(dice_size=dice_size))\n",
    "        return DiceSet(dices=dices)\n"
   ]
  },
  {
   "cell_type": "code",
   "execution_count": 192,
   "metadata": {},
   "outputs": [],
   "source": [
    "class HexCoord(BaseModel):\n",
    "    q: int\n",
    "    r: int\n",
    "    s: int\n",
    "    @model_validator(mode=\"after\")\n",
    "    def valid_params(self):\n",
    "        assert self.q + self.r + self.s == 0\n",
    "\n",
    "    def distance(self, to: 'HexCoord') -> int:\n",
    "        return max([\n",
    "            abs(self.q - to.q),\n",
    "            abs(self.r - to.r),\n",
    "            abs(self.s - to.s)\n",
    "        ])\n",
    "\n",
    "class HexBoard(BaseModel):\n",
    "    raw_board: List[List[Cell]]\n",
    "\n",
    "    @staticmethod\n",
    "    def build_circular(radius: int, octaves: float = 3, thresholds: List = [-.1,0,.2]) -> \"HexBoard\":\n",
    "        side_size = (2 * radius) + 1\n",
    "\n",
    "        noise = PerlinNoise(octaves=octaves)\n",
    "        pic = np.array([[noise([i/10, j/10]) for j in range(side_size)] for i in range(side_size)])\n",
    "        idx_board = np.digitize(pic, thresholds, right=True)\n",
    "\n",
    "        cells_type = [CellType.see, CellType.plain, CellType.hills, CellType.mauntain]\n",
    "\n",
    "        cell_board = [[Cell(type=cells_type[idx], yields=1) for idx in row] for row in idx_board]\n",
    "        for row in range(radius):\n",
    "            for i in range(radius - row):\n",
    "                cell_board[row][i] = Cell(type=CellType.empty, yields=0)\n",
    "                cell_board[side_size -1 -row][side_size -1 -i] = Cell(type=CellType.empty, yields=0)\n",
    "        \n",
    "\n",
    "        return HexBoard(raw_board=cell_board)"
   ]
  },
  {
   "cell_type": "code",
   "execution_count": 202,
   "metadata": {},
   "outputs": [],
   "source": [
    "class UnitType(Enum):\n",
    "    warrior = \"warrior\"\n",
    "    archer = \"archer\"\n",
    "    knight = \"knight\"\n",
    "    defender = \"defender\"\n",
    "    catapult = \"catapult\"\n",
    "\n",
    "\n",
    "stats_dict = json.load(open(\"src/game_logic/units_stats.json\"))\n",
    "\n",
    "\n",
    "class UnitStats(BaseModel):\n",
    "    type: UnitType\n",
    "    cost: int\n",
    "    attack_melee: DiceSet\n",
    "    attack_ranged: DiceSet\n",
    "    defense: DiceSet\n",
    "    movement: int\n",
    "    range: int\n",
    "\n",
    "    @staticmethod\n",
    "    def from_type(type: UnitType) -> \"UnitStats\":\n",
    "        return UnitStats(\n",
    "            type=type,\n",
    "            cost=stats_dict[type.value][\"cost\"],\n",
    "            attack_melee=DiceSet.from_dice_code(\n",
    "                stats_dict[type.value][\"attack_melee\"]\n",
    "            ),\n",
    "            attack_ranged=DiceSet.from_dice_code(\n",
    "                stats_dict[type.value][\"attack_ranged\"]\n",
    "            ),\n",
    "            defense=DiceSet.from_dice_code(stats_dict[type.value][\"defense\"]),\n",
    "            movement=stats_dict[type.value][\"movement\"],\n",
    "            range=stats_dict[type.value][\"range\"],\n",
    "        )\n",
    "\n",
    "    def __eq__(self, __value: object) -> bool:\n",
    "        assert isinstance(__value, UnitStats)\n",
    "        if self.type != __value.type:\n",
    "            return False\n",
    "        assert self.cost == __value.cost\n",
    "        assert self.attack_melee == __value.attack_melee\n",
    "        assert self.attack_ranged == __value.attack_ranged\n",
    "        assert self.defense == __value.defense\n",
    "        assert self.movement == __value.movement\n",
    "        assert self.range == __value.range\n",
    "        return True\n",
    "\n",
    "\n",
    "class Unit(BaseModel):\n",
    "    loc: HexBoard\n",
    "    owner_id: int\n",
    "    id: int\n",
    "    type: UnitType\n",
    "    actions: int\n",
    "\n",
    "    def __eq__(self, __value: object) -> bool:\n",
    "        assert isinstance(__value, Unit)\n",
    "        if self.id != __value.id:\n",
    "            return False\n",
    "        assert self.location == __value.location\n",
    "        assert self.owner_id == __value.owner_id\n",
    "        assert self.stats == __value.stats\n",
    "        assert self.actions == __value.actions\n",
    "        return True\n",
    "\n",
    "    def reset_upkeep(self):\n",
    "        self.actions = self.stats.movement\n",
    "\n",
    "    @property\n",
    "    def stats(self) -> UnitStats:\n",
    "        return UnitStats.from_type(self.type)\n",
    "\n",
    "    def move_to(self, to: HexCoord, board: HexBoard) -> None:\n",
    "        if self.location.distance(to) > self.actions:\n",
    "            raise ValueError(\n",
    "                f\"Unit {self.id} cannot move: only {self.actions} actions left\"\n",
    "            )\n",
    "        # TODO: add physics, now can move on see or through mountains\n",
    "        self.actions -= self.location.distance(to)\n",
    "        self.location = to\n"
   ]
  },
  {
   "cell_type": "code",
   "execution_count": 203,
   "metadata": {},
   "outputs": [
    {
     "data": {
      "text/plain": [
       "HexBoard(raw_board=[[Cell(type=<CellType.empty: 'empty'>, yields=0), Cell(type=<CellType.empty: 'empty'>, yields=0), Cell(type=<CellType.empty: 'empty'>, yields=0), Cell(type=<CellType.plain: 'plain'>, yields=1), Cell(type=<CellType.hills: 'hills'>, yields=1), Cell(type=<CellType.hills: 'hills'>, yields=1), Cell(type=<CellType.plain: 'plain'>, yields=1)], [Cell(type=<CellType.empty: 'empty'>, yields=0), Cell(type=<CellType.empty: 'empty'>, yields=0), Cell(type=<CellType.hills: 'hills'>, yields=1), Cell(type=<CellType.hills: 'hills'>, yields=1), Cell(type=<CellType.mauntain: 'mauntain'>, yields=1), Cell(type=<CellType.hills: 'hills'>, yields=1), Cell(type=<CellType.hills: 'hills'>, yields=1)], [Cell(type=<CellType.empty: 'empty'>, yields=0), Cell(type=<CellType.mauntain: 'mauntain'>, yields=1), Cell(type=<CellType.hills: 'hills'>, yields=1), Cell(type=<CellType.plain: 'plain'>, yields=1), Cell(type=<CellType.hills: 'hills'>, yields=1), Cell(type=<CellType.hills: 'hills'>, yields=1), Cell(type=<CellType.hills: 'hills'>, yields=1)], [Cell(type=<CellType.hills: 'hills'>, yields=1), Cell(type=<CellType.mauntain: 'mauntain'>, yields=1), Cell(type=<CellType.hills: 'hills'>, yields=1), Cell(type=<CellType.plain: 'plain'>, yields=1), Cell(type=<CellType.plain: 'plain'>, yields=1), Cell(type=<CellType.plain: 'plain'>, yields=1), Cell(type=<CellType.plain: 'plain'>, yields=1)], [Cell(type=<CellType.see: 'see'>, yields=1), Cell(type=<CellType.hills: 'hills'>, yields=1), Cell(type=<CellType.hills: 'hills'>, yields=1), Cell(type=<CellType.hills: 'hills'>, yields=1), Cell(type=<CellType.plain: 'plain'>, yields=1), Cell(type=<CellType.see: 'see'>, yields=1), Cell(type=<CellType.empty: 'empty'>, yields=0)], [Cell(type=<CellType.hills: 'hills'>, yields=1), Cell(type=<CellType.hills: 'hills'>, yields=1), Cell(type=<CellType.hills: 'hills'>, yields=1), Cell(type=<CellType.see: 'see'>, yields=1), Cell(type=<CellType.see: 'see'>, yields=1), Cell(type=<CellType.empty: 'empty'>, yields=0), Cell(type=<CellType.empty: 'empty'>, yields=0)], [Cell(type=<CellType.hills: 'hills'>, yields=1), Cell(type=<CellType.mauntain: 'mauntain'>, yields=1), Cell(type=<CellType.hills: 'hills'>, yields=1), Cell(type=<CellType.see: 'see'>, yields=1), Cell(type=<CellType.empty: 'empty'>, yields=0), Cell(type=<CellType.empty: 'empty'>, yields=0), Cell(type=<CellType.empty: 'empty'>, yields=0)]])"
      ]
     },
     "execution_count": 203,
     "metadata": {},
     "output_type": "execute_result"
    }
   ],
   "source": [
    "HexBoard.build_circular(3)"
   ]
  },
  {
   "cell_type": "code",
   "execution_count": 204,
   "metadata": {},
   "outputs": [
    {
     "data": {
      "text/plain": [
       "Unit(loc=HexBoard(raw_board=[[Cell(type=<CellType.empty: 'empty'>, yields=0), Cell(type=<CellType.empty: 'empty'>, yields=0), Cell(type=<CellType.empty: 'empty'>, yields=0), Cell(type=<CellType.plain: 'plain'>, yields=1), Cell(type=<CellType.hills: 'hills'>, yields=1), Cell(type=<CellType.hills: 'hills'>, yields=1), Cell(type=<CellType.hills: 'hills'>, yields=1)], [Cell(type=<CellType.empty: 'empty'>, yields=0), Cell(type=<CellType.empty: 'empty'>, yields=0), Cell(type=<CellType.see: 'see'>, yields=1), Cell(type=<CellType.see: 'see'>, yields=1), Cell(type=<CellType.see: 'see'>, yields=1), Cell(type=<CellType.plain: 'plain'>, yields=1), Cell(type=<CellType.hills: 'hills'>, yields=1)], [Cell(type=<CellType.empty: 'empty'>, yields=0), Cell(type=<CellType.see: 'see'>, yields=1), Cell(type=<CellType.see: 'see'>, yields=1), Cell(type=<CellType.see: 'see'>, yields=1), Cell(type=<CellType.see: 'see'>, yields=1), Cell(type=<CellType.hills: 'hills'>, yields=1), Cell(type=<CellType.hills: 'hills'>, yields=1)], [Cell(type=<CellType.plain: 'plain'>, yields=1), Cell(type=<CellType.plain: 'plain'>, yields=1), Cell(type=<CellType.see: 'see'>, yields=1), Cell(type=<CellType.plain: 'plain'>, yields=1), Cell(type=<CellType.hills: 'hills'>, yields=1), Cell(type=<CellType.mauntain: 'mauntain'>, yields=1), Cell(type=<CellType.hills: 'hills'>, yields=1)], [Cell(type=<CellType.hills: 'hills'>, yields=1), Cell(type=<CellType.hills: 'hills'>, yields=1), Cell(type=<CellType.hills: 'hills'>, yields=1), Cell(type=<CellType.hills: 'hills'>, yields=1), Cell(type=<CellType.hills: 'hills'>, yields=1), Cell(type=<CellType.mauntain: 'mauntain'>, yields=1), Cell(type=<CellType.empty: 'empty'>, yields=0)], [Cell(type=<CellType.mauntain: 'mauntain'>, yields=1), Cell(type=<CellType.mauntain: 'mauntain'>, yields=1), Cell(type=<CellType.mauntain: 'mauntain'>, yields=1), Cell(type=<CellType.hills: 'hills'>, yields=1), Cell(type=<CellType.hills: 'hills'>, yields=1), Cell(type=<CellType.empty: 'empty'>, yields=0), Cell(type=<CellType.empty: 'empty'>, yields=0)], [Cell(type=<CellType.hills: 'hills'>, yields=1), Cell(type=<CellType.mauntain: 'mauntain'>, yields=1), Cell(type=<CellType.mauntain: 'mauntain'>, yields=1), Cell(type=<CellType.hills: 'hills'>, yields=1), Cell(type=<CellType.empty: 'empty'>, yields=0), Cell(type=<CellType.empty: 'empty'>, yields=0), Cell(type=<CellType.empty: 'empty'>, yields=0)]]), owner_id=0, id=0, type=<UnitType.archer: 'archer'>, actions=0)"
      ]
     },
     "execution_count": 204,
     "metadata": {},
     "output_type": "execute_result"
    }
   ],
   "source": [
    "Unit(loc=HexBoard.build_circular(3), owner_id=0, id=0, type=UnitType.archer, actions=0)"
   ]
  },
  {
   "cell_type": "code",
   "execution_count": 199,
   "metadata": {},
   "outputs": [
    {
     "data": {
      "text/plain": [
       "HexCoord(q=0, r=0, s=0)"
      ]
     },
     "execution_count": 199,
     "metadata": {},
     "output_type": "execute_result"
    }
   ],
   "source": [
    "HexCoord(q=0, r=0, s=0)"
   ]
  },
  {
   "cell_type": "code",
   "execution_count": 179,
   "metadata": {},
   "outputs": [],
   "source": [
    "board = HexBoard.build_circular(7)"
   ]
  },
  {
   "cell_type": "code",
   "execution_count": 180,
   "metadata": {},
   "outputs": [
    {
     "data": {
      "image/png": "[encoded data removed]",
      "text/plain": [
       "<Figure size 640x480 with 1 Axes>"
      ]
     },
     "metadata": {},
     "output_type": "display_data"
    }
   ],
   "source": [
    "fig, ax = plt.subplots(1)\n",
    "colors = {\n",
    "    CellType.see: \"blue\", CellType.plain: \"olive\", CellType.hills: \"green\", CellType.mauntain: \"gray\", CellType.empty: \"black\"\n",
    "}\n",
    "hxs = []\n",
    "max_x = 0\n",
    "max_y = 0\n",
    "min_x = 1000\n",
    "min_y = 1000\n",
    "for i, row in enumerate(board.raw_board):\n",
    "    for j, cell in enumerate(row):\n",
    "        y = i*(1.5)\n",
    "        x = j*np.sqrt(3) + i*(np.sqrt(3)/2)\n",
    "        if cell.type != CellType.empty:\n",
    "            hxs.append(RegularPolygon((x, y), numVertices=6, radius=1, \n",
    "                                orientation=np.radians(0), \n",
    "                                facecolor=colors[cell.type], alpha=1, edgecolor='k'))\n",
    "            max_x=max(x,max_x)\n",
    "            max_y=max(y,max_y)\n",
    "            min_x=min(x,min_x)\n",
    "            min_y=min(y,min_y)\n",
    "\n",
    "for hex in hxs:\n",
    "    ax.add_patch(hex)\n",
    "S= 25\n",
    "ax.set_xlim([-np.sqrt(3)/2 + min_x, max_x + np.sqrt(3)/2])\n",
    "ax.set_ylim([-1+ min_y, max_y + 1])\n",
    "ax.set_aspect('equal')\n"
   ]
  },
  {
   "cell_type": "code",
   "execution_count": 165,
   "metadata": {},
   "outputs": [],
   "source": [
    "a = [[5,10],[11,14],[21,22],[16,19],[21,25],[6,18],[1,9],[4,7],[10,23],[5,14],[9,18],[18,21],[11,22],[1,15],[1,2],[5,18],[7,20],[2,23],[12,13],[9,14],[10,16],[11,21],[5,12],[2,24],[8,17],[15,17],[10,13],[11,16],[20,22],[7,11],[9,15],[16,22],[18,20],[19,22],[10,18],[3,20],[16,25],[10,15],[1,23],[13,16],[23,25],[1,8],[4,10],[19,24],[11,20],[3,18],[6,25],[11,13],[13,15],[22,24],[6,24],[17,20],[2,25],[15,24],[8,21],[14,16],[5,16],[19,23],[1,5],[4,22],[19,20],[12,15],[16,18],[9,13],[13,22],[14,22],[2,8],[3,13],[9,23],[14,15],[14,17],[8,20],[9,17],[3,19],[8,25],[2,12],[7,24],[19,25],[1,13],[6,11],[14,21],[7,15],[3,14],[15,23],[10,17],[4,20],[6,14],[10,21],[2,13],[3,21],[8,11],[5,21],[6,23],[17,25],[16,21],[12,22],[1,16],[6,19],[7,25],[3,23],[11,25],[3,10],[6,7],[2,3],[5,25],[1,6],[4,17],[2,16],[13,17],[17,22],[6,13],[5,6],[4,11],[4,23],[4,8],[12,23],[7,21],[5,20],[3,24],[2,10],[13,14],[11,24],[1,3],[2,7],[7,23],[6,17],[5,17],[16,17],[8,15],[8,23],[7,17],[14,18],[16,23],[23,24],[4,12],[17,19],[5,9],[10,11],[5,23],[2,9],[1,19],[2,19],[12,20],[2,14],[11,12],[1,12],[13,23],[4,9],[7,13],[15,20],[21,24],[8,18],[9,11],[8,19],[6,22],[16,20],[22,25],[20,21],[6,16],[3,17],[1,22],[9,22],[20,24],[2,6],[9,16],[2,4],[2,20],[20,25],[9,10],[3,11],[15,18],[1,20],[3,6],[8,14],[10,22],[12,21],[7,8],[8,16],[9,20],[3,8],[15,21],[17,21],[11,18],[13,24],[17,24],[6,20],[4,15],[6,15],[3,22],[13,21],[2,22],[13,25],[9,12],[4,19],[1,24],[12,19],[5,8],[1,7],[3,16],[3,5],[12,24],[3,12],[2,17],[18,22],[4,25],[8,24],[15,19],[18,23],[1,4],[1,21],[10,24],[20,23],[4,14],[16,24],[10,20],[18,24],[1,14],[12,14],[10,12],[4,16],[5,19],[4,5],[19,21],[15,25],[1,18],[2,21],[4,24],[7,14],[4,6],[15,16],[3,7],[21,23],[1,17],[12,16],[13,18],[5,7],[9,19],[2,15],[22,23],[7,19],[17,23],[8,22],[11,17],[7,16],[8,9],[6,21],[4,21],[4,13],[14,24],[3,4],[7,18],[11,15],[5,11],[12,17],[6,9],[1,25],[12,18],[6,12],[8,10],[6,8],[11,23],[7,10],[14,25],[14,23],[12,25],[5,24],[10,19],[3,25],[7,9],[8,12],[5,22],[24,25],[13,19],[3,15],[5,15],[15,22],[10,14],[3,9],[13,20],[1,10],[9,21],[10,25],[9,24],[14,20],[9,25],[8,13],[7,12],[5,13],[6,10],[2,5],[2,18],[14,19],[1,11],[7,22],[18,25],[11,19],[18,19],[4,18],[17,18],[2,11]]"
   ]
  },
  {
   "cell_type": "code",
   "execution_count": 8,
   "metadata": {},
   "outputs": [
    {
     "name": "stdout",
     "output_type": "stream",
     "text": [
      "[2, 3]\n",
      "[1, 3]\n"
     ]
    }
   ],
   "source": [
    "for row in a:\n",
    "    if row[1] == 3:\n",
    "        print(row)"
   ]
  },
  {
   "cell_type": "code",
   "execution_count": 9,
   "metadata": {},
   "outputs": [],
   "source": [
    "for row in a:\n",
    "    if row[1] == 1:\n",
    "        print(row)"
   ]
  },
  {
   "cell_type": "code",
   "execution_count": 6,
   "metadata": {},
   "outputs": [
    {
     "data": {
      "text/plain": [
       "[[1, 2, 3, 2, 2, 2, 1, 1, 0, 2],\n",
       " [2, 1, 1, 4, 3, 3, 4, 2, 4, 3],\n",
       " [0, 4, 4, 4, 2, 0, 3, 0, 3, 0],\n",
       " [4, 1, 3, 4, 2, 2, 3, 3, 2, 1],\n",
       " [4, 3, 0, 2, 2, 0, 2, 4, 2, 3],\n",
       " [1, 1, 2, 2, 0, 3, 0, 4, 2, 1],\n",
       " [0, 0, 0, 0, 4, 3, 4, 0, 1, 4]]"
      ]
     },
     "execution_count": 6,
     "metadata": {},
     "output_type": "execute_result"
    }
   ],
   "source": [
    "a"
   ]
  },
  {
   "cell_type": "code",
   "execution_count": 8,
   "metadata": {},
   "outputs": [
    {
     "data": {
      "text/plain": [
       "Unit(location=Coord(row=0, col=0), owner_id=1, id=0, type=<UnitType.warrior: 'warrior'>, actions=0)"
      ]
     },
     "execution_count": 8,
     "metadata": {},
     "output_type": "execute_result"
    }
   ],
   "source": [
    "Unit(\n",
    "    location=Coord(row=0, col=0), owner_id=1, id=0, type=UnitType.warrior, actions=0)"
   ]
  },
  {
   "cell_type": "code",
   "execution_count": null,
   "metadata": {},
   "outputs": [],
   "source": []
  },
  {
   "cell_type": "code",
   "execution_count": 12,
   "metadata": {},
   "outputs": [],
   "source": [
    "class ActionType(Enum):\n",
    "    move_unit = \"move_unit\"\n",
    "    attack = \"attack\"\n",
    "    build_unit = \"build_unit\"\n",
    "    end_turn = \"end_turn\"\n",
    "\n",
    "\n",
    "class ActionParam(BaseModel):\n",
    "    game_id: int\n",
    "    player_id: int\n",
    "    class Config:\n",
    "        extra = \"forbid\"\n",
    "\n",
    "\n",
    "class ActionParamMoveUnit(ActionParam):\n",
    "    unit_id: int\n",
    "    move_to: Coord\n",
    "\n",
    "\n",
    "class ActionParamAttack(ActionParam):\n",
    "    attacking_unit_ids: List[int]\n",
    "    attacked_unit_id: int\n",
    "\n",
    "\n",
    "class ActionParamBuildUnit(ActionParam):\n",
    "    location: Coord\n",
    "    type: UnitType\n",
    "\n",
    "\n",
    "class ActionParamEndTurn(ActionParam):\n",
    "    pass\n",
    "\n",
    "\n",
    "class Action(BaseModel):\n",
    "    action_type: ActionType\n",
    "    params: Union[ActionParamMoveUnit, ActionParamAttack, ActionParamBuildUnit, ActionParamEndTurn]\n",
    "    \n",
    "    @field_validator(\"params\", mode=\"after\")\n",
    "    def valid_params(cls, v,  values):\n",
    "        if values.data[\"action_type\"] == ActionType.move_unit:\n",
    "            assert isinstance(v, ActionParamMoveUnit)\n",
    "        elif values.data[\"action_type\"] == ActionType.attack:\n",
    "            assert isinstance(v, ActionParamAttack)\n",
    "        elif values.data[\"action_type\"] == ActionType.build_unit:\n",
    "            assert isinstance(v, ActionParamBuildUnit)\n",
    "        elif values.data[\"action_type\"] == ActionType.end_turn:\n",
    "            assert isinstance(v, ActionParamEndTurn)"
   ]
  },
  {
   "cell_type": "code",
   "execution_count": 2,
   "metadata": {},
   "outputs": [
    {
     "data": {
      "text/plain": [
       "'hello'"
      ]
     },
     "execution_count": 2,
     "metadata": {},
     "output_type": "execute_result"
    }
   ],
   "source": [
    "a = \"hello\"\n",
    "a[:100]"
   ]
  },
  {
   "cell_type": "code",
   "execution_count": 13,
   "metadata": {},
   "outputs": [
    {
     "name": "stdout",
     "output_type": "stream",
     "text": [
      "{'action_type': 'build_unit', 'params': {'game_id': 0, 'player_id': 1, 'location': {'row': 0, 'col': 0}, 'type': 'warrior'}}\n",
      "[Action(action_type=<ActionType.move_unit: 'move_unit'>, params=None), Action(action_type=<ActionType.attack: 'attack'>, params=None), Action(action_type=<ActionType.build_unit: 'build_unit'>, params=None), Action(action_type=<ActionType.end_turn: 'end_turn'>, params=None)]\n"
     ]
    }
   ],
   "source": [
    "data = {\n",
    "    \"action_type\" : \"move_unit\",\n",
    "    \"params\": {\n",
    "        \"game_id\" : 0,\n",
    "        'player_id': 1,\n",
    "        \"unit_id\":0,\n",
    "        \"move_to\":{\n",
    "            \"row\":0,\n",
    "            \"col\":0,\n",
    "        }\n",
    "    }\n",
    "}\n",
    "data2 = {\n",
    "    \"action_type\" : \"attack\",\n",
    "    \"params\": {\n",
    "        \"game_id\" : 0,\n",
    "        'player_id': 1,\n",
    "        \"attacking_unit_ids\":[0,1,2],\n",
    "        \"attacked_unit_id\":3\n",
    "    }\n",
    "}\n",
    "data3 = {\n",
    "    \"action_type\" : \"build_unit\",\n",
    "    \"params\": {\n",
    "        \"game_id\" : 0,\n",
    "        'player_id': 1,\n",
    "        \"location\":{\n",
    "            \"row\":0,\n",
    "            \"col\":0,\n",
    "        },\n",
    "        \"type\":\"warrior\"\n",
    "    }\n",
    "}\n",
    "data4 = {\n",
    "    \"action_type\" : \"end_turn\",\n",
    "    \"params\": {\n",
    "        \"game_id\" : 0,\n",
    "        'player_id': 1\n",
    "    }\n",
    "}\n",
    "print(data3)\n",
    "a = [Action.model_validate(d) for d in [data, data2, data3, data4]]\n",
    "print(a)"
   ]
  },
  {
   "cell_type": "code",
   "execution_count": 10,
   "metadata": {},
   "outputs": [
    {
     "ename": "ValidationError",
     "evalue": "2 validation errors for ActionParam\nlocation\n  Extra inputs are not permitted [type=extra_forbidden, input_value={'row': 0, 'col': 0}, input_type=dict]\n    For further information visit https://errors.pydantic.dev/2.0.1/v/extra_forbidden\ntype\n  Extra inputs are not permitted [type=extra_forbidden, input_value='warrior', input_type=str]\n    For further information visit https://errors.pydantic.dev/2.0.1/v/extra_forbidden",
     "output_type": "error",
     "traceback": [
      "\u001b[0;31m---------------------------------------------------------------------------\u001b[0m",
      "\u001b[0;31mValidationError\u001b[0m                           Traceback (most recent call last)",
      "\u001b[1;32m/Users/marcomilanta/Documents/personal/boardgame/main.ipynb Cell 4\u001b[0m line \u001b[0;36m1\n\u001b[0;32m----> <a href='vscode-notebook-cell:/Users/marcomilanta/Documents/personal/boardgame/main.ipynb#X36sZmlsZQ%3D%3D?line=0'>1</a>\u001b[0m ActionParam(\u001b[39m*\u001b[39;49m\u001b[39m*\u001b[39;49mdata3[\u001b[39m\"\u001b[39;49m\u001b[39mparams\u001b[39;49m\u001b[39m\"\u001b[39;49m])\n",
      "File \u001b[0;32m/opt/homebrew/lib/python3.11/site-packages/pydantic/main.py:150\u001b[0m, in \u001b[0;36mBaseModel.__init__\u001b[0;34m(__pydantic_self__, **data)\u001b[0m\n\u001b[1;32m    148\u001b[0m \u001b[39m# `__tracebackhide__` tells pytest and some other tools to omit this function from tracebacks\u001b[39;00m\n\u001b[1;32m    149\u001b[0m __tracebackhide__ \u001b[39m=\u001b[39m \u001b[39mTrue\u001b[39;00m\n\u001b[0;32m--> 150\u001b[0m __pydantic_self__\u001b[39m.\u001b[39;49m__pydantic_validator__\u001b[39m.\u001b[39;49mvalidate_python(data, self_instance\u001b[39m=\u001b[39;49m__pydantic_self__)\n",
      "\u001b[0;31mValidationError\u001b[0m: 2 validation errors for ActionParam\nlocation\n  Extra inputs are not permitted [type=extra_forbidden, input_value={'row': 0, 'col': 0}, input_type=dict]\n    For further information visit https://errors.pydantic.dev/2.0.1/v/extra_forbidden\ntype\n  Extra inputs are not permitted [type=extra_forbidden, input_value='warrior', input_type=str]\n    For further information visit https://errors.pydantic.dev/2.0.1/v/extra_forbidden"
     ]
    }
   ],
   "source": [
    "ActionParam(**data3[\"params\"])"
   ]
  },
  {
   "cell_type": "code",
   "execution_count": 7,
   "metadata": {},
   "outputs": [
    {
     "data": {
      "text/plain": [
       "{'game_id': 0,\n",
       " 'player_id': 1,\n",
       " 'location': {'row': 0, 'col': 0},\n",
       " 'type': 'warrior'}"
      ]
     },
     "execution_count": 7,
     "metadata": {},
     "output_type": "execute_result"
    }
   ],
   "source": [
    "data3[\"params\"]"
   ]
  },
  {
   "cell_type": "code",
   "execution_count": null,
   "metadata": {},
   "outputs": [],
   "source": [
    " "
   ]
  }
 ],
 "metadata": {
  "kernelspec": {
   "display_name": "base",
   "language": "python",
   "name": "python3"
  },
  "language_info": {
   "codemirror_mode": {
    "name": "ipython",
    "version": 3
   },
   "file_extension": ".py",
   "mimetype": "text/x-python",
   "name": "python",
   "nbconvert_exporter": "python",
   "pygments_lexer": "ipython3",
   "version": "3.11.4"
  },
  "orig_nbformat": 4
 },
 "nbformat": 4,
 "nbformat_minor": 2
}
